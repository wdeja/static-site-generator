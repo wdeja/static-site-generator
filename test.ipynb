{
 "cells": [
  {
   "cell_type": "code",
   "execution_count": 2,
   "metadata": {},
   "outputs": [],
   "source": [
    "def __eq__(self, __value: object) -> bool:\n",
    "    if self.text == __value.text:\n",
    "        if self.text_type == __value.text_type:\n",
    "            if self.url == __value.url:\n",
    "                return True\n",
    "    return False\n",
    "\n",
    "\n",
    "def __eq__(self, other):\n",
    "    return (\n",
    "        self.text_type == other.text_type\n",
    "        and self.text == other.text\n",
    "        and self.url == other.url\n",
    "    )"
   ]
  },
  {
   "cell_type": "code",
   "execution_count": null,
   "metadata": {},
   "outputs": [],
   "source": [
    "__eq__()"
   ]
  }
 ],
 "metadata": {
  "kernelspec": {
   "display_name": "Python 3",
   "language": "python",
   "name": "python3"
  },
  "language_info": {
   "codemirror_mode": {
    "name": "ipython",
    "version": 3
   },
   "file_extension": ".py",
   "mimetype": "text/x-python",
   "name": "python",
   "nbconvert_exporter": "python",
   "pygments_lexer": "ipython3",
   "version": "3.11.8"
  }
 },
 "nbformat": 4,
 "nbformat_minor": 2
}
